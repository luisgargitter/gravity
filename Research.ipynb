{
 "cells": [
  {
   "cell_type": "code",
   "execution_count": 42,
   "id": "0484bf62",
   "metadata": {},
   "outputs": [],
   "source": [
    "import numpy as np\n",
    "import matplotlib.pyplot as plt\n",
    "import math\n",
    "\n",
    "G = 6.6743015e-11\n",
    "Eps0 = 8.8541878128e-12\n",
    "\n",
    "class Particle:\n",
    "    def __init__(self, position, inertia: (float, float, float), mass, charge : float):\n",
    "        self.position = np.array(position)\n",
    "        self.inertia = np.array(inertia)\n",
    "        self.mass = mass\n",
    "        self.charge = charge\n",
    "        \n",
    "    def force(self, p) -> float:\n",
    "        ds = np.sum((self.position-p.position)**2)\n",
    "        Fg = G * self.mass * p.mass / ds\n",
    "        Fc = self.charge * p.charge / (4 * math.pi * Eps0 * ds)\n",
    "        return Fg - Fc\n",
    "    \n",
    "    \n",
    "    def forceV(self, p) -> np.ndarray:\n",
    "        diff = p.position-self.position\n",
    "        length = np.linalg.norm(diff)\n",
    "        return (diff/length)*self.force(p)\n",
    "        \n",
    "    def move(self, t: float):\n",
    "        self.position = self.position + self.inertia * t \n",
    "        \n",
    "    def apply_force(self, f: np.ndarray, t: float):\n",
    "        self.inertia = self.inertia + f*(t/self.mass)\n",
    "\n",
    "class System:\n",
    "    def __init__(self, particles: [Particle], t: float):\n",
    "        self.t = t\n",
    "        self.particles = particles\n",
    "        \n",
    "    def step(self):\n",
    "        for i in range(0, len(self.particles)):\n",
    "            p1 = self.particles[i]\n",
    "            for j in range(i+1, len(self.particles)):\n",
    "                p2 = self.particles[j]\n",
    "                f = p1.forceV(p2)\n",
    "                p1.apply_force(f, self.t)\n",
    "                p2.apply_force(-f, self.t)\n",
    "                self.particles[j] = p2\n",
    "        \n",
    "            p1.move(self.t)\n",
    "            self.particles[i] = p1"
   ]
  },
  {
   "cell_type": "code",
   "execution_count": 119,
   "id": "4d8ffa1b",
   "metadata": {},
   "outputs": [
    {
     "data": {
      "text/plain": [
       "[<matplotlib.lines.Line2D at 0x7db0b777a1a0>]"
      ]
     },
     "execution_count": 119,
     "metadata": {},
     "output_type": "execute_result"
    },
    {
     "data": {
      "image/png": "[encoded data removed]",
      "text/plain": [
       "<Figure size 432x288 with 1 Axes>"
      ]
     },
     "metadata": {
      "needs_background": "light"
     },
     "output_type": "display_data"
    }
   ],
   "source": [
    "a = Particle((100,0,0), (0,0.0001,0), 0.5, 0.000000001)\n",
    "b = Particle((0,0,0), (0,0.0001,0), 0.5, 0.000000001)\n",
    "s = System([a, b], 100)\n",
    "\n",
    "xs = [[], []]\n",
    "ys = [[], []]\n",
    "zs = [[], []]\n",
    "\n",
    "n = range(0, 10000)\n",
    "for i in n:\n",
    "    xs[0].append(s.particles[0].position[0])\n",
    "    ys[0].append(s.particles[0].position[1])\n",
    "    zs[0].append(s.particles[0].position[2])\n",
    "    xs[1].append(s.particles[1].position[0])\n",
    "    ys[1].append(s.particles[1].position[1])\n",
    "    zs[1].append(s.particles[1].position[2])\n",
    "    s.step()\n",
    "    #resistance\n",
    "    for i in range(0, len(s.particles)):\n",
    "        p = s.particles[i]\n",
    "        p.inertia[0] = p.inertia[0] * 0.9\n",
    "        p.inertia[2] = p.inertia[2] * 0.9\n",
    "        s.particles[i] = p\n",
    "\n",
    "plt.plot(xs[0], ys[0])\n",
    "plt.plot(xs[1], ys[1])"
   ]
  },
  {
   "cell_type": "code",
   "execution_count": 123,
   "id": "299faed3",
   "metadata": {},
   "outputs": [
    {
     "data": {
      "text/plain": [
       "[<matplotlib.lines.Line2D at 0x7db0b76e6dd0>]"
      ]
     },
     "execution_count": 123,
     "metadata": {},
     "output_type": "execute_result"
    },
    {
     "data": {
      "image/png": "[encoded data removed]",
      "text/plain": [
       "<Figure size 432x288 with 1 Axes>"
      ]
     },
     "metadata": {
      "needs_background": "light"
     },
     "output_type": "display_data"
    }
   ],
   "source": [
    "center = Particle((0,0,0), (0, 0, 0), 1, 1)\n",
    "vals = []\n",
    "for i in np.logspace(0, 8, 100):\n",
    "    p = Particle((i,0,0), (0,0,0), 1, 1)\n",
    "    vals.append(center.force(p))\n",
    "    \n",
    "plt.plot(vals)"
   ]
  },
  {
   "cell_type": "code",
   "execution_count": 13,
   "id": "ad2b46ce",
   "metadata": {},
   "outputs": [],
   "source": [
    "from typing import Tuple\n",
    "\n",
    "class PointMass:\n",
    "    def __init__(self, weight: float, position: Tuple[float, float, float], inertia: Tuple[float, float, float]):\n",
    "        self.weight = weight\n",
    "        self.position = np.array(position)\n",
    "        self.inertia = np.array(inertia)\n",
    "\n",
    "    def distanceTo(self, point_mass: \"PointMass\") -> float:\n",
    "        return np.linalg.norm(self.position - point_mass.position)\n",
    "\n",
    "    def directionTo(self, point_mass: \"PointMass\") -> Tuple[float, float, float]:\n",
    "        return (point_mass.position - self.position) / self.distanceTo(point_mass)\n",
    "\n",
    "    def move(self, t: float):\n",
    "        self.position = self.position + self.inertia * t\n",
    "\n",
    "class Spring:\n",
    "    def __init__(self, start_point: PointMass, end_point: PointMass, spring_constant: float, length: float):\n",
    "        self.start_point = start_point\n",
    "        self.end_point = end_point\n",
    "        self.spring_constant = spring_constant\n",
    "        self.length = length\n",
    "        \n",
    "    def force(self) -> float:\n",
    "        return (length - self.start_point.distanceTo(self.endpoint)) * weight\n",
    "\n",
    "    def direction(self) -> Tuple[float, float, float]:\n",
    "        return self.start_point.directionTo(self.end_point)\n",
    "\n",
    "    def applyForce(self, t: float):\n",
    "        f = self.force() * self.direction()\n",
    "        self.start_point.inertia = self.start_point.inertia - f * t\n",
    "        self.end_point.inertia = self.end_point.inertia + f * t\n",
    "  \n",
    "class SpringsAndJoints:\n",
    "    def __init__(self, springs: [Spring], joints: [PointMass]):\n",
    "        self.springs = springs\n",
    "        self.joints = joints\n",
    "\n",
    "    def step(self, t: float):\n",
    "        for i in range(0, len(self.springs)):\n",
    "            self.springs[i].applyForce(t)\n",
    "\n",
    "        for i in range(0, len(self.joints)):\n",
    "            self.joints[i].move(t)\n"
   ]
  },
  {
   "cell_type": "code",
   "execution_count": null,
   "id": "5720610b",
   "metadata": {},
   "outputs": [],
   "source": []
  }
 ],
 "metadata": {
  "kernelspec": {
   "display_name": "Python 3 (ipykernel)",
   "language": "python",
   "name": "python3"
  },
  "language_info": {
   "codemirror_mode": {
    "name": "ipython",
    "version": 3
   },
   "file_extension": ".py",
   "mimetype": "text/x-python",
   "name": "python",
   "nbconvert_exporter": "python",
   "pygments_lexer": "ipython3",
   "version": "3.11.9"
  }
 },
 "nbformat": 4,
 "nbformat_minor": 5
}
